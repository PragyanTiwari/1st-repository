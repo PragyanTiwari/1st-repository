{
    "cells": [
        {
            "metadata": {
                "collapsed": true
            },
            "cell_type": "markdown",
            "source": "# ENVIRONMENTAL PROJECT\n"
        },
        {
            "metadata": {},
            "cell_type": "code",
            "source": "import os, types\nimport pandas as pd\nfrom botocore.client import Config\nimport ibm_boto3\n\ndef __iter__(self): return 0\n\n# @hidden_cell\n# The following code accesses a file in your IBM Cloud Object Storage. It includes your credentials.\n# You might want to remove those credentials before you share the notebook.\n\nif os.environ.get('RUNTIME_ENV_LOCATION_TYPE') == 'external':\n    endpoint_a0605da51aba4ecb98803f4a85d8bb8d = 'https://s3.eu.cloud-object-storage.appdomain.cloud'\nelse:\n    endpoint_a0605da51aba4ecb98803f4a85d8bb8d = 'https://s3.private.eu.cloud-object-storage.appdomain.cloud'\n\nclient_a0605da51aba4ecb98803f4a85d8bb8d = ibm_boto3.client(service_name='s3',\n    ibm_api_key_id='AN-HBCWYQEko-m8HuizsrAwVGo0SvHxHM-zxlO-FqMyS',\n    ibm_auth_endpoint=\"https://iam.cloud.ibm.com/oidc/token\",\n    config=Config(signature_version='oauth'),\n    endpoint_url=endpoint_a0605da51aba4ecb98803f4a85d8bb8d)\n\nbody = client_a0605da51aba4ecb98803f4a85d8bb8d.get_object(Bucket='firstproject-donotdelete-pr-gfobhpdqlgi07u',Key='environmental-protection-expenditure-account-2009-18.csv')['Body']\n# add missing __iter__ method, so pandas accepts body as file-like object\nif not hasattr(body, \"__iter__\"): body.__iter__ = types.MethodType( __iter__, body )\n\ndf_data_1 = pd.read_csv(body)\ndf_data_1.head()\n",
            "execution_count": null,
            "outputs": []
        }
    ],
    "metadata": {
        "kernelspec": {
            "name": "python3",
            "display_name": "Python 3.7",
            "language": "python"
        },
        "language_info": {
            "name": "python",
            "version": "3.7.10",
            "mimetype": "text/x-python",
            "codemirror_mode": {
                "name": "ipython",
                "version": 3
            },
            "pygments_lexer": "ipython3",
            "nbconvert_exporter": "python",
            "file_extension": ".py"
        }
    },
    "nbformat": 4,
    "nbformat_minor": 1
}